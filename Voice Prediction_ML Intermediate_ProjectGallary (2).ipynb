{
 "cells": [
  {
   "cell_type": "code",
   "execution_count": 1,
   "id": "c523f07b",
   "metadata": {},
   "outputs": [
    {
     "name": "stderr",
     "output_type": "stream",
     "text": [
      "C:\\Users\\rashm\\AppData\\Local\\Temp/ipykernel_9384/4249513518.py:6: DeprecationWarning: `import pandas_profiling` is going to be deprecated by April 1st. Please use `import ydata_profiling` instead.\n",
      "  from pandas_profiling import ProfileReport\n"
     ]
    }
   ],
   "source": [
    "# !pip install pandas-profiling\n",
    "\n",
    "import numpy as np\n",
    "import pandas as pd\n",
    "\n",
    "from pandas_profiling import ProfileReport\n",
    "\n",
    "from sklearn.preprocessing import LabelEncoder\n",
    "\n",
    "from sklearn.ensemble import RandomForestClassifier\n",
    "\n",
    "from sklearn.model_selection import train_test_split\n",
    "\n",
    "from sklearn.metrics import confusion_matrix, classification_report, f1_score\n",
    "\n",
    "pd.set_option('display.float_format', lambda x: '%.5f' % x) "
   ]
  },
  {
   "cell_type": "code",
   "execution_count": 2,
   "id": "3b90dd25",
   "metadata": {},
   "outputs": [],
   "source": [
    "data = pd.read_csv('voice_train.csv')"
   ]
  },
  {
   "cell_type": "code",
   "execution_count": 3,
   "id": "bfcbd975",
   "metadata": {},
   "outputs": [
    {
     "data": {
      "text/html": [
       "<div>\n",
       "<style scoped>\n",
       "    .dataframe tbody tr th:only-of-type {\n",
       "        vertical-align: middle;\n",
       "    }\n",
       "\n",
       "    .dataframe tbody tr th {\n",
       "        vertical-align: top;\n",
       "    }\n",
       "\n",
       "    .dataframe thead th {\n",
       "        text-align: right;\n",
       "    }\n",
       "</style>\n",
       "<table border=\"1\" class=\"dataframe\">\n",
       "  <thead>\n",
       "    <tr style=\"text-align: right;\">\n",
       "      <th></th>\n",
       "      <th>Id</th>\n",
       "      <th>meanfreq</th>\n",
       "      <th>sd</th>\n",
       "      <th>median</th>\n",
       "      <th>Q25</th>\n",
       "      <th>Q75</th>\n",
       "      <th>IQR</th>\n",
       "      <th>skew</th>\n",
       "      <th>kurt</th>\n",
       "      <th>sp.ent</th>\n",
       "      <th>...</th>\n",
       "      <th>centroid</th>\n",
       "      <th>meanfun</th>\n",
       "      <th>minfun</th>\n",
       "      <th>maxfun</th>\n",
       "      <th>meandom</th>\n",
       "      <th>mindom</th>\n",
       "      <th>maxdom</th>\n",
       "      <th>dfrange</th>\n",
       "      <th>modindx</th>\n",
       "      <th>label</th>\n",
       "    </tr>\n",
       "  </thead>\n",
       "  <tbody>\n",
       "    <tr>\n",
       "      <th>0</th>\n",
       "      <td>765</td>\n",
       "      <td>0.16234</td>\n",
       "      <td>0.05821</td>\n",
       "      <td>0.17406</td>\n",
       "      <td>0.10023</td>\n",
       "      <td>0.19651</td>\n",
       "      <td>0.09629</td>\n",
       "      <td>2.12723</td>\n",
       "      <td>7.81513</td>\n",
       "      <td>0.92153</td>\n",
       "      <td>...</td>\n",
       "      <td>0.16234</td>\n",
       "      <td>0.09585</td>\n",
       "      <td>0.01675</td>\n",
       "      <td>0.23529</td>\n",
       "      <td>0.40603</td>\n",
       "      <td>0.04688</td>\n",
       "      <td>3.48438</td>\n",
       "      <td>3.43750</td>\n",
       "      <td>0.15535</td>\n",
       "      <td>male</td>\n",
       "    </tr>\n",
       "    <tr>\n",
       "      <th>1</th>\n",
       "      <td>3071</td>\n",
       "      <td>0.16165</td>\n",
       "      <td>0.05743</td>\n",
       "      <td>0.17014</td>\n",
       "      <td>0.15752</td>\n",
       "      <td>0.18293</td>\n",
       "      <td>0.02541</td>\n",
       "      <td>6.96885</td>\n",
       "      <td>60.96805</td>\n",
       "      <td>0.87041</td>\n",
       "      <td>...</td>\n",
       "      <td>0.16165</td>\n",
       "      <td>0.16349</td>\n",
       "      <td>0.01560</td>\n",
       "      <td>0.20408</td>\n",
       "      <td>0.59516</td>\n",
       "      <td>0.17090</td>\n",
       "      <td>3.97949</td>\n",
       "      <td>3.80859</td>\n",
       "      <td>0.20907</td>\n",
       "      <td>female</td>\n",
       "    </tr>\n",
       "    <tr>\n",
       "      <th>2</th>\n",
       "      <td>1546</td>\n",
       "      <td>0.16529</td>\n",
       "      <td>0.06189</td>\n",
       "      <td>0.13507</td>\n",
       "      <td>0.11847</td>\n",
       "      <td>0.22518</td>\n",
       "      <td>0.10671</td>\n",
       "      <td>2.63186</td>\n",
       "      <td>12.62912</td>\n",
       "      <td>0.91890</td>\n",
       "      <td>...</td>\n",
       "      <td>0.16529</td>\n",
       "      <td>0.12005</td>\n",
       "      <td>0.03509</td>\n",
       "      <td>0.22222</td>\n",
       "      <td>0.45858</td>\n",
       "      <td>0.08789</td>\n",
       "      <td>1.01562</td>\n",
       "      <td>0.92773</td>\n",
       "      <td>0.45983</td>\n",
       "      <td>male</td>\n",
       "    </tr>\n",
       "    <tr>\n",
       "      <th>3</th>\n",
       "      <td>410</td>\n",
       "      <td>0.18810</td>\n",
       "      <td>0.05574</td>\n",
       "      <td>0.20603</td>\n",
       "      <td>0.13049</td>\n",
       "      <td>0.22947</td>\n",
       "      <td>0.09898</td>\n",
       "      <td>1.53841</td>\n",
       "      <td>5.14575</td>\n",
       "      <td>0.91433</td>\n",
       "      <td>...</td>\n",
       "      <td>0.18810</td>\n",
       "      <td>0.10847</td>\n",
       "      <td>0.02130</td>\n",
       "      <td>0.14545</td>\n",
       "      <td>0.49323</td>\n",
       "      <td>0.12500</td>\n",
       "      <td>4.73438</td>\n",
       "      <td>4.60938</td>\n",
       "      <td>0.10520</td>\n",
       "      <td>male</td>\n",
       "    </tr>\n",
       "    <tr>\n",
       "      <th>4</th>\n",
       "      <td>2689</td>\n",
       "      <td>0.18750</td>\n",
       "      <td>0.04423</td>\n",
       "      <td>0.19007</td>\n",
       "      <td>0.15680</td>\n",
       "      <td>0.21544</td>\n",
       "      <td>0.05864</td>\n",
       "      <td>1.65308</td>\n",
       "      <td>5.83947</td>\n",
       "      <td>0.90748</td>\n",
       "      <td>...</td>\n",
       "      <td>0.18750</td>\n",
       "      <td>0.15453</td>\n",
       "      <td>0.04834</td>\n",
       "      <td>0.27907</td>\n",
       "      <td>1.11350</td>\n",
       "      <td>0.02344</td>\n",
       "      <td>8.76562</td>\n",
       "      <td>8.74219</td>\n",
       "      <td>0.10310</td>\n",
       "      <td>female</td>\n",
       "    </tr>\n",
       "  </tbody>\n",
       "</table>\n",
       "<p>5 rows × 22 columns</p>\n",
       "</div>"
      ],
      "text/plain": [
       "     Id  meanfreq      sd  median     Q25     Q75     IQR    skew     kurt  \\\n",
       "0   765   0.16234 0.05821 0.17406 0.10023 0.19651 0.09629 2.12723  7.81513   \n",
       "1  3071   0.16165 0.05743 0.17014 0.15752 0.18293 0.02541 6.96885 60.96805   \n",
       "2  1546   0.16529 0.06189 0.13507 0.11847 0.22518 0.10671 2.63186 12.62912   \n",
       "3   410   0.18810 0.05574 0.20603 0.13049 0.22947 0.09898 1.53841  5.14575   \n",
       "4  2689   0.18750 0.04423 0.19007 0.15680 0.21544 0.05864 1.65308  5.83947   \n",
       "\n",
       "   sp.ent  ...  centroid  meanfun  minfun  maxfun  meandom  mindom  maxdom  \\\n",
       "0 0.92153  ...   0.16234  0.09585 0.01675 0.23529  0.40603 0.04688 3.48438   \n",
       "1 0.87041  ...   0.16165  0.16349 0.01560 0.20408  0.59516 0.17090 3.97949   \n",
       "2 0.91890  ...   0.16529  0.12005 0.03509 0.22222  0.45858 0.08789 1.01562   \n",
       "3 0.91433  ...   0.18810  0.10847 0.02130 0.14545  0.49323 0.12500 4.73438   \n",
       "4 0.90748  ...   0.18750  0.15453 0.04834 0.27907  1.11350 0.02344 8.76562   \n",
       "\n",
       "   dfrange  modindx   label  \n",
       "0  3.43750  0.15535    male  \n",
       "1  3.80859  0.20907  female  \n",
       "2  0.92773  0.45983    male  \n",
       "3  4.60938  0.10520    male  \n",
       "4  8.74219  0.10310  female  \n",
       "\n",
       "[5 rows x 22 columns]"
      ]
     },
     "execution_count": 3,
     "metadata": {},
     "output_type": "execute_result"
    }
   ],
   "source": [
    "data.head()"
   ]
  },
  {
   "cell_type": "code",
   "execution_count": 4,
   "id": "80cca18d",
   "metadata": {},
   "outputs": [
    {
     "data": {
      "text/plain": [
       "(2851, 22)"
      ]
     },
     "execution_count": 4,
     "metadata": {},
     "output_type": "execute_result"
    }
   ],
   "source": [
    "data.shape"
   ]
  },
  {
   "cell_type": "code",
   "execution_count": 5,
   "id": "4f949dfe",
   "metadata": {},
   "outputs": [
    {
     "name": "stdout",
     "output_type": "stream",
     "text": [
      "<class 'pandas.core.frame.DataFrame'>\n",
      "RangeIndex: 2851 entries, 0 to 2850\n",
      "Data columns (total 22 columns):\n",
      " #   Column    Non-Null Count  Dtype  \n",
      "---  ------    --------------  -----  \n",
      " 0   Id        2851 non-null   int64  \n",
      " 1   meanfreq  2851 non-null   float64\n",
      " 2   sd        2851 non-null   float64\n",
      " 3   median    2851 non-null   float64\n",
      " 4   Q25       2851 non-null   float64\n",
      " 5   Q75       2851 non-null   float64\n",
      " 6   IQR       2851 non-null   float64\n",
      " 7   skew      2851 non-null   float64\n",
      " 8   kurt      2851 non-null   float64\n",
      " 9   sp.ent    2851 non-null   float64\n",
      " 10  sfm       2851 non-null   float64\n",
      " 11  mode      2851 non-null   float64\n",
      " 12  centroid  2851 non-null   float64\n",
      " 13  meanfun   2851 non-null   float64\n",
      " 14  minfun    2851 non-null   float64\n",
      " 15  maxfun    2851 non-null   float64\n",
      " 16  meandom   2851 non-null   float64\n",
      " 17  mindom    2851 non-null   float64\n",
      " 18  maxdom    2851 non-null   float64\n",
      " 19  dfrange   2851 non-null   float64\n",
      " 20  modindx   2851 non-null   float64\n",
      " 21  label     2851 non-null   object \n",
      "dtypes: float64(20), int64(1), object(1)\n",
      "memory usage: 490.1+ KB\n"
     ]
    }
   ],
   "source": [
    "data.info()"
   ]
  },
  {
   "cell_type": "code",
   "execution_count": 36,
   "id": "e4ae1ac9",
   "metadata": {},
   "outputs": [],
   "source": [
    "# pr = ProfileReport(data)\n",
    "# pr"
   ]
  },
  {
   "cell_type": "code",
   "execution_count": 7,
   "id": "e59a6b8c",
   "metadata": {},
   "outputs": [
    {
     "data": {
      "text/html": [
       "<div>\n",
       "<style scoped>\n",
       "    .dataframe tbody tr th:only-of-type {\n",
       "        vertical-align: middle;\n",
       "    }\n",
       "\n",
       "    .dataframe tbody tr th {\n",
       "        vertical-align: top;\n",
       "    }\n",
       "\n",
       "    .dataframe thead th {\n",
       "        text-align: right;\n",
       "    }\n",
       "</style>\n",
       "<table border=\"1\" class=\"dataframe\">\n",
       "  <thead>\n",
       "    <tr style=\"text-align: right;\">\n",
       "      <th></th>\n",
       "      <th>Id</th>\n",
       "      <th>meanfreq</th>\n",
       "      <th>sd</th>\n",
       "      <th>median</th>\n",
       "      <th>Q25</th>\n",
       "      <th>Q75</th>\n",
       "      <th>IQR</th>\n",
       "      <th>skew</th>\n",
       "      <th>kurt</th>\n",
       "      <th>sp.ent</th>\n",
       "      <th>...</th>\n",
       "      <th>mode</th>\n",
       "      <th>centroid</th>\n",
       "      <th>meanfun</th>\n",
       "      <th>minfun</th>\n",
       "      <th>maxfun</th>\n",
       "      <th>meandom</th>\n",
       "      <th>mindom</th>\n",
       "      <th>maxdom</th>\n",
       "      <th>dfrange</th>\n",
       "      <th>modindx</th>\n",
       "    </tr>\n",
       "  </thead>\n",
       "  <tbody>\n",
       "    <tr>\n",
       "      <th>count</th>\n",
       "      <td>2851.00000</td>\n",
       "      <td>2851.00000</td>\n",
       "      <td>2851.00000</td>\n",
       "      <td>2851.00000</td>\n",
       "      <td>2851.00000</td>\n",
       "      <td>2851.00000</td>\n",
       "      <td>2851.00000</td>\n",
       "      <td>2851.00000</td>\n",
       "      <td>2851.00000</td>\n",
       "      <td>2851.00000</td>\n",
       "      <td>...</td>\n",
       "      <td>2851.00000</td>\n",
       "      <td>2851.00000</td>\n",
       "      <td>2851.00000</td>\n",
       "      <td>2851.00000</td>\n",
       "      <td>2851.00000</td>\n",
       "      <td>2851.00000</td>\n",
       "      <td>2851.00000</td>\n",
       "      <td>2851.00000</td>\n",
       "      <td>2851.00000</td>\n",
       "      <td>2851.00000</td>\n",
       "    </tr>\n",
       "    <tr>\n",
       "      <th>mean</th>\n",
       "      <td>1591.56542</td>\n",
       "      <td>0.18092</td>\n",
       "      <td>0.05714</td>\n",
       "      <td>0.18572</td>\n",
       "      <td>0.14035</td>\n",
       "      <td>0.22473</td>\n",
       "      <td>0.08438</td>\n",
       "      <td>3.11847</td>\n",
       "      <td>35.80833</td>\n",
       "      <td>0.89531</td>\n",
       "      <td>...</td>\n",
       "      <td>0.16548</td>\n",
       "      <td>0.18092</td>\n",
       "      <td>0.14289</td>\n",
       "      <td>0.03683</td>\n",
       "      <td>0.25897</td>\n",
       "      <td>0.83361</td>\n",
       "      <td>0.05263</td>\n",
       "      <td>5.07575</td>\n",
       "      <td>5.02311</td>\n",
       "      <td>0.17393</td>\n",
       "    </tr>\n",
       "    <tr>\n",
       "      <th>std</th>\n",
       "      <td>909.93917</td>\n",
       "      <td>0.02980</td>\n",
       "      <td>0.01659</td>\n",
       "      <td>0.03617</td>\n",
       "      <td>0.04863</td>\n",
       "      <td>0.02351</td>\n",
       "      <td>0.04273</td>\n",
       "      <td>4.16373</td>\n",
       "      <td>131.43090</td>\n",
       "      <td>0.04480</td>\n",
       "      <td>...</td>\n",
       "      <td>0.07692</td>\n",
       "      <td>0.02980</td>\n",
       "      <td>0.03219</td>\n",
       "      <td>0.01918</td>\n",
       "      <td>0.02981</td>\n",
       "      <td>0.52557</td>\n",
       "      <td>0.06298</td>\n",
       "      <td>3.52620</td>\n",
       "      <td>3.52519</td>\n",
       "      <td>0.11946</td>\n",
       "    </tr>\n",
       "    <tr>\n",
       "      <th>min</th>\n",
       "      <td>1.00000</td>\n",
       "      <td>0.03936</td>\n",
       "      <td>0.01836</td>\n",
       "      <td>0.01097</td>\n",
       "      <td>0.00023</td>\n",
       "      <td>0.04295</td>\n",
       "      <td>0.01456</td>\n",
       "      <td>0.14174</td>\n",
       "      <td>2.06846</td>\n",
       "      <td>0.73865</td>\n",
       "      <td>...</td>\n",
       "      <td>0.00000</td>\n",
       "      <td>0.03936</td>\n",
       "      <td>0.05557</td>\n",
       "      <td>0.00978</td>\n",
       "      <td>0.10870</td>\n",
       "      <td>0.00781</td>\n",
       "      <td>0.00488</td>\n",
       "      <td>0.00781</td>\n",
       "      <td>0.00000</td>\n",
       "      <td>0.00000</td>\n",
       "    </tr>\n",
       "    <tr>\n",
       "      <th>25%</th>\n",
       "      <td>808.50000</td>\n",
       "      <td>0.16374</td>\n",
       "      <td>0.04208</td>\n",
       "      <td>0.16973</td>\n",
       "      <td>0.11114</td>\n",
       "      <td>0.20876</td>\n",
       "      <td>0.04266</td>\n",
       "      <td>1.63841</td>\n",
       "      <td>5.60450</td>\n",
       "      <td>0.86219</td>\n",
       "      <td>...</td>\n",
       "      <td>0.11810</td>\n",
       "      <td>0.16374</td>\n",
       "      <td>0.11758</td>\n",
       "      <td>0.01822</td>\n",
       "      <td>0.25397</td>\n",
       "      <td>0.42380</td>\n",
       "      <td>0.00781</td>\n",
       "      <td>2.20703</td>\n",
       "      <td>2.18359</td>\n",
       "      <td>0.09959</td>\n",
       "    </tr>\n",
       "    <tr>\n",
       "      <th>50%</th>\n",
       "      <td>1590.00000</td>\n",
       "      <td>0.18485</td>\n",
       "      <td>0.05915</td>\n",
       "      <td>0.19007</td>\n",
       "      <td>0.14023</td>\n",
       "      <td>0.22573</td>\n",
       "      <td>0.09424</td>\n",
       "      <td>2.18332</td>\n",
       "      <td>8.25581</td>\n",
       "      <td>0.90184</td>\n",
       "      <td>...</td>\n",
       "      <td>0.18667</td>\n",
       "      <td>0.18485</td>\n",
       "      <td>0.14068</td>\n",
       "      <td>0.04692</td>\n",
       "      <td>0.27119</td>\n",
       "      <td>0.76758</td>\n",
       "      <td>0.02344</td>\n",
       "      <td>4.99219</td>\n",
       "      <td>4.96875</td>\n",
       "      <td>0.13916</td>\n",
       "    </tr>\n",
       "    <tr>\n",
       "      <th>75%</th>\n",
       "      <td>2382.50000</td>\n",
       "      <td>0.19906</td>\n",
       "      <td>0.06689</td>\n",
       "      <td>0.21065</td>\n",
       "      <td>0.17569</td>\n",
       "      <td>0.24370</td>\n",
       "      <td>0.11421</td>\n",
       "      <td>2.93296</td>\n",
       "      <td>13.64935</td>\n",
       "      <td>0.92873</td>\n",
       "      <td>...</td>\n",
       "      <td>0.22134</td>\n",
       "      <td>0.19906</td>\n",
       "      <td>0.16959</td>\n",
       "      <td>0.04790</td>\n",
       "      <td>0.27746</td>\n",
       "      <td>1.18041</td>\n",
       "      <td>0.07031</td>\n",
       "      <td>7.07812</td>\n",
       "      <td>7.04297</td>\n",
       "      <td>0.20953</td>\n",
       "    </tr>\n",
       "    <tr>\n",
       "      <th>max</th>\n",
       "      <td>3167.00000</td>\n",
       "      <td>0.25112</td>\n",
       "      <td>0.11527</td>\n",
       "      <td>0.26122</td>\n",
       "      <td>0.24735</td>\n",
       "      <td>0.27347</td>\n",
       "      <td>0.25223</td>\n",
       "      <td>34.72545</td>\n",
       "      <td>1309.61289</td>\n",
       "      <td>0.98200</td>\n",
       "      <td>...</td>\n",
       "      <td>0.28000</td>\n",
       "      <td>0.25112</td>\n",
       "      <td>0.23764</td>\n",
       "      <td>0.20408</td>\n",
       "      <td>0.27911</td>\n",
       "      <td>2.95768</td>\n",
       "      <td>0.45898</td>\n",
       "      <td>21.86719</td>\n",
       "      <td>21.84375</td>\n",
       "      <td>0.93237</td>\n",
       "    </tr>\n",
       "  </tbody>\n",
       "</table>\n",
       "<p>8 rows × 21 columns</p>\n",
       "</div>"
      ],
      "text/plain": [
       "              Id   meanfreq         sd     median        Q25        Q75  \\\n",
       "count 2851.00000 2851.00000 2851.00000 2851.00000 2851.00000 2851.00000   \n",
       "mean  1591.56542    0.18092    0.05714    0.18572    0.14035    0.22473   \n",
       "std    909.93917    0.02980    0.01659    0.03617    0.04863    0.02351   \n",
       "min      1.00000    0.03936    0.01836    0.01097    0.00023    0.04295   \n",
       "25%    808.50000    0.16374    0.04208    0.16973    0.11114    0.20876   \n",
       "50%   1590.00000    0.18485    0.05915    0.19007    0.14023    0.22573   \n",
       "75%   2382.50000    0.19906    0.06689    0.21065    0.17569    0.24370   \n",
       "max   3167.00000    0.25112    0.11527    0.26122    0.24735    0.27347   \n",
       "\n",
       "             IQR       skew       kurt     sp.ent  ...       mode   centroid  \\\n",
       "count 2851.00000 2851.00000 2851.00000 2851.00000  ... 2851.00000 2851.00000   \n",
       "mean     0.08438    3.11847   35.80833    0.89531  ...    0.16548    0.18092   \n",
       "std      0.04273    4.16373  131.43090    0.04480  ...    0.07692    0.02980   \n",
       "min      0.01456    0.14174    2.06846    0.73865  ...    0.00000    0.03936   \n",
       "25%      0.04266    1.63841    5.60450    0.86219  ...    0.11810    0.16374   \n",
       "50%      0.09424    2.18332    8.25581    0.90184  ...    0.18667    0.18485   \n",
       "75%      0.11421    2.93296   13.64935    0.92873  ...    0.22134    0.19906   \n",
       "max      0.25223   34.72545 1309.61289    0.98200  ...    0.28000    0.25112   \n",
       "\n",
       "         meanfun     minfun     maxfun    meandom     mindom     maxdom  \\\n",
       "count 2851.00000 2851.00000 2851.00000 2851.00000 2851.00000 2851.00000   \n",
       "mean     0.14289    0.03683    0.25897    0.83361    0.05263    5.07575   \n",
       "std      0.03219    0.01918    0.02981    0.52557    0.06298    3.52620   \n",
       "min      0.05557    0.00978    0.10870    0.00781    0.00488    0.00781   \n",
       "25%      0.11758    0.01822    0.25397    0.42380    0.00781    2.20703   \n",
       "50%      0.14068    0.04692    0.27119    0.76758    0.02344    4.99219   \n",
       "75%      0.16959    0.04790    0.27746    1.18041    0.07031    7.07812   \n",
       "max      0.23764    0.20408    0.27911    2.95768    0.45898   21.86719   \n",
       "\n",
       "         dfrange    modindx  \n",
       "count 2851.00000 2851.00000  \n",
       "mean     5.02311    0.17393  \n",
       "std      3.52519    0.11946  \n",
       "min      0.00000    0.00000  \n",
       "25%      2.18359    0.09959  \n",
       "50%      4.96875    0.13916  \n",
       "75%      7.04297    0.20953  \n",
       "max     21.84375    0.93237  \n",
       "\n",
       "[8 rows x 21 columns]"
      ]
     },
     "execution_count": 7,
     "metadata": {},
     "output_type": "execute_result"
    }
   ],
   "source": [
    "data.describe()"
   ]
  },
  {
   "cell_type": "code",
   "execution_count": 8,
   "id": "1ac808b4",
   "metadata": {},
   "outputs": [
    {
     "data": {
      "text/plain": [
       "Index(['Id', 'meanfreq', 'sd', 'median', 'Q25', 'Q75', 'IQR', 'skew', 'kurt',\n",
       "       'sp.ent', 'sfm', 'mode', 'centroid', 'meanfun', 'minfun', 'maxfun',\n",
       "       'meandom', 'mindom', 'maxdom', 'dfrange', 'modindx', 'label'],\n",
       "      dtype='object')"
      ]
     },
     "execution_count": 8,
     "metadata": {},
     "output_type": "execute_result"
    }
   ],
   "source": [
    "data.columns"
   ]
  },
  {
   "cell_type": "code",
   "execution_count": 10,
   "id": "aafe60be",
   "metadata": {},
   "outputs": [],
   "source": [
    "# data.corr()['label'].sort_values(ascending = True)"
   ]
  },
  {
   "cell_type": "code",
   "execution_count": 11,
   "id": "580a451d",
   "metadata": {},
   "outputs": [
    {
     "data": {
      "text/plain": [
       "0"
      ]
     },
     "execution_count": 11,
     "metadata": {},
     "output_type": "execute_result"
    }
   ],
   "source": [
    "data.duplicated().sum()"
   ]
  },
  {
   "cell_type": "code",
   "execution_count": 12,
   "id": "b10a4514",
   "metadata": {},
   "outputs": [],
   "source": [
    "lower_limit = data['meanfreq'].quantile(0.02)\n",
    "Upper_limit = data['meanfreq'].quantile(0.98)"
   ]
  },
  {
   "cell_type": "code",
   "execution_count": 13,
   "id": "3816b188",
   "metadata": {},
   "outputs": [
    {
     "name": "stdout",
     "output_type": "stream",
     "text": [
      "0.1093106164\n",
      "0.2353506745\n"
     ]
    }
   ],
   "source": [
    "print(lower_limit)\n",
    "print(Upper_limit)"
   ]
  },
  {
   "cell_type": "code",
   "execution_count": 14,
   "id": "8745cbf3",
   "metadata": {},
   "outputs": [
    {
     "data": {
      "text/plain": [
       "0       True\n",
       "1       True\n",
       "2       True\n",
       "3       True\n",
       "4       True\n",
       "        ... \n",
       "2846    True\n",
       "2847    True\n",
       "2848    True\n",
       "2849    True\n",
       "2850    True\n",
       "Name: meanfreq, Length: 2851, dtype: bool"
      ]
     },
     "execution_count": 14,
     "metadata": {},
     "output_type": "execute_result"
    }
   ],
   "source": [
    "data['meanfreq']<Upper_limit"
   ]
  },
  {
   "cell_type": "code",
   "execution_count": 15,
   "id": "65f15727",
   "metadata": {},
   "outputs": [],
   "source": [
    "# pointbiserialr is used to check the correlation when one variable is binary (2 output class) and other features are continous\n",
    "\n",
    "from scipy.stats import pointbiserialr"
   ]
  },
  {
   "cell_type": "code",
   "execution_count": 16,
   "id": "95082188",
   "metadata": {},
   "outputs": [],
   "source": [
    "# to be able to use pointbiserialr, we need to encode our target variable 'label'\n",
    "le = LabelEncoder()\n",
    "data['label'] = le.fit_transform(data['label'])"
   ]
  },
  {
   "cell_type": "code",
   "execution_count": 17,
   "id": "cbfabcfa",
   "metadata": {},
   "outputs": [
    {
     "data": {
      "text/plain": [
       "0       1\n",
       "1       0\n",
       "2       1\n",
       "3       1\n",
       "4       0\n",
       "       ..\n",
       "2846    0\n",
       "2847    1\n",
       "2848    1\n",
       "2849    1\n",
       "2850    1\n",
       "Name: label, Length: 2851, dtype: int32"
      ]
     },
     "execution_count": 17,
     "metadata": {},
     "output_type": "execute_result"
    }
   ],
   "source": [
    "data['label']"
   ]
  },
  {
   "cell_type": "code",
   "execution_count": 18,
   "id": "406c4b06",
   "metadata": {},
   "outputs": [
    {
     "name": "stdout",
     "output_type": "stream",
     "text": [
      "-0.3249284316724125\n",
      "4.299359431567026e-71\n"
     ]
    }
   ],
   "source": [
    "correlation_coefficient, p_value = pointbiserialr(data['label'], data['meanfreq'])\n",
    "print(correlation_coefficient)\n",
    "print(p_value)"
   ]
  },
  {
   "cell_type": "code",
   "execution_count": 19,
   "id": "76b70f62",
   "metadata": {},
   "outputs": [],
   "source": [
    "# for col in data.columns:\n",
    "#     correlation_coefficient, p_value = pointbiserialr(data['label'], data[col])\n",
    "#     print(data.columns)\n",
    "#     print(correlation_coefficient)"
   ]
  },
  {
   "cell_type": "code",
   "execution_count": 20,
   "id": "d405bff5",
   "metadata": {},
   "outputs": [],
   "source": [
    "rf = RandomForestClassifier()"
   ]
  },
  {
   "cell_type": "code",
   "execution_count": 21,
   "id": "54c99861",
   "metadata": {},
   "outputs": [],
   "source": [
    "x = data.drop('label', axis=1)\n",
    "y = data['label']"
   ]
  },
  {
   "cell_type": "code",
   "execution_count": 22,
   "id": "2ae175a1",
   "metadata": {},
   "outputs": [],
   "source": [
    "x_train, x_test, y_train, y_test = train_test_split(x,y,test_size=0.2, random_state = 20)"
   ]
  },
  {
   "cell_type": "code",
   "execution_count": 23,
   "id": "d6bbfd81",
   "metadata": {},
   "outputs": [],
   "source": [
    "rf.fit(x_train, y_train)\n",
    "y_hat_train = rf.predict(x_train)"
   ]
  },
  {
   "cell_type": "code",
   "execution_count": 24,
   "id": "368295de",
   "metadata": {},
   "outputs": [],
   "source": [
    "confusion_matrix = confusion_matrix(y_train, y_hat_train)\n",
    "classification_report = classification_report(y_train, y_hat_train)\n",
    "f1_score = f1_score(y_train, y_hat_train)"
   ]
  },
  {
   "cell_type": "code",
   "execution_count": 25,
   "id": "adbb2db6",
   "metadata": {},
   "outputs": [
    {
     "name": "stdout",
     "output_type": "stream",
     "text": [
      "[[1145    0]\n",
      " [   0 1135]]\n",
      "              precision    recall  f1-score   support\n",
      "\n",
      "           0       1.00      1.00      1.00      1145\n",
      "           1       1.00      1.00      1.00      1135\n",
      "\n",
      "    accuracy                           1.00      2280\n",
      "   macro avg       1.00      1.00      1.00      2280\n",
      "weighted avg       1.00      1.00      1.00      2280\n",
      "\n",
      "1.0\n"
     ]
    }
   ],
   "source": [
    "print(confusion_matrix)\n",
    "print(classification_report)\n",
    "print(f1_score)"
   ]
  },
  {
   "cell_type": "code",
   "execution_count": 26,
   "id": "eb3d3c65",
   "metadata": {},
   "outputs": [],
   "source": [
    "test_data = pd.read_csv('voice_test.csv')"
   ]
  },
  {
   "cell_type": "code",
   "execution_count": 27,
   "id": "a772edbb",
   "metadata": {},
   "outputs": [],
   "source": [
    "y_hat_test = rf.predict(test_data)"
   ]
  },
  {
   "cell_type": "code",
   "execution_count": 28,
   "id": "61afdfea",
   "metadata": {},
   "outputs": [
    {
     "data": {
      "text/plain": [
       "Index(['Id', 'meanfreq', 'sd', 'median', 'Q25', 'Q75', 'IQR', 'skew', 'kurt',\n",
       "       'sp.ent', 'sfm', 'mode', 'centroid', 'meanfun', 'minfun', 'maxfun',\n",
       "       'meandom', 'mindom', 'maxdom', 'dfrange', 'modindx'],\n",
       "      dtype='object')"
      ]
     },
     "execution_count": 28,
     "metadata": {},
     "output_type": "execute_result"
    }
   ],
   "source": [
    "test_data.columns"
   ]
  },
  {
   "cell_type": "code",
   "execution_count": 29,
   "id": "03746861",
   "metadata": {},
   "outputs": [],
   "source": [
    "sub_file = test_data[['Id']]"
   ]
  },
  {
   "cell_type": "code",
   "execution_count": 30,
   "id": "c83fa7c1",
   "metadata": {},
   "outputs": [],
   "source": [
    "y_hat_test = pd.Series(y_hat_test)"
   ]
  },
  {
   "cell_type": "code",
   "execution_count": 31,
   "id": "00febba7",
   "metadata": {},
   "outputs": [
    {
     "name": "stderr",
     "output_type": "stream",
     "text": [
      "C:\\Users\\rashm\\AppData\\Local\\Temp/ipykernel_9384/4042717727.py:1: SettingWithCopyWarning: \n",
      "A value is trying to be set on a copy of a slice from a DataFrame.\n",
      "Try using .loc[row_indexer,col_indexer] = value instead\n",
      "\n",
      "See the caveats in the documentation: https://pandas.pydata.org/pandas-docs/stable/user_guide/indexing.html#returning-a-view-versus-a-copy\n",
      "  sub_file['y_hat_test'] = y_hat_test\n"
     ]
    }
   ],
   "source": [
    "sub_file['y_hat_test'] = y_hat_test"
   ]
  },
  {
   "cell_type": "code",
   "execution_count": 32,
   "id": "0f5a0ef0",
   "metadata": {},
   "outputs": [
    {
     "data": {
      "text/html": [
       "<div>\n",
       "<style scoped>\n",
       "    .dataframe tbody tr th:only-of-type {\n",
       "        vertical-align: middle;\n",
       "    }\n",
       "\n",
       "    .dataframe tbody tr th {\n",
       "        vertical-align: top;\n",
       "    }\n",
       "\n",
       "    .dataframe thead th {\n",
       "        text-align: right;\n",
       "    }\n",
       "</style>\n",
       "<table border=\"1\" class=\"dataframe\">\n",
       "  <thead>\n",
       "    <tr style=\"text-align: right;\">\n",
       "      <th></th>\n",
       "      <th>Id</th>\n",
       "      <th>y_hat_test</th>\n",
       "    </tr>\n",
       "  </thead>\n",
       "  <tbody>\n",
       "    <tr>\n",
       "      <th>0</th>\n",
       "      <td>2148</td>\n",
       "      <td>0</td>\n",
       "    </tr>\n",
       "    <tr>\n",
       "      <th>1</th>\n",
       "      <td>1124</td>\n",
       "      <td>1</td>\n",
       "    </tr>\n",
       "    <tr>\n",
       "      <th>2</th>\n",
       "      <td>170</td>\n",
       "      <td>1</td>\n",
       "    </tr>\n",
       "    <tr>\n",
       "      <th>3</th>\n",
       "      <td>3158</td>\n",
       "      <td>0</td>\n",
       "    </tr>\n",
       "    <tr>\n",
       "      <th>4</th>\n",
       "      <td>2229</td>\n",
       "      <td>0</td>\n",
       "    </tr>\n",
       "    <tr>\n",
       "      <th>...</th>\n",
       "      <td>...</td>\n",
       "      <td>...</td>\n",
       "    </tr>\n",
       "    <tr>\n",
       "      <th>312</th>\n",
       "      <td>3085</td>\n",
       "      <td>0</td>\n",
       "    </tr>\n",
       "    <tr>\n",
       "      <th>313</th>\n",
       "      <td>1632</td>\n",
       "      <td>0</td>\n",
       "    </tr>\n",
       "    <tr>\n",
       "      <th>314</th>\n",
       "      <td>2893</td>\n",
       "      <td>0</td>\n",
       "    </tr>\n",
       "    <tr>\n",
       "      <th>315</th>\n",
       "      <td>1106</td>\n",
       "      <td>1</td>\n",
       "    </tr>\n",
       "    <tr>\n",
       "      <th>316</th>\n",
       "      <td>1488</td>\n",
       "      <td>1</td>\n",
       "    </tr>\n",
       "  </tbody>\n",
       "</table>\n",
       "<p>317 rows × 2 columns</p>\n",
       "</div>"
      ],
      "text/plain": [
       "       Id  y_hat_test\n",
       "0    2148           0\n",
       "1    1124           1\n",
       "2     170           1\n",
       "3    3158           0\n",
       "4    2229           0\n",
       "..    ...         ...\n",
       "312  3085           0\n",
       "313  1632           0\n",
       "314  2893           0\n",
       "315  1106           1\n",
       "316  1488           1\n",
       "\n",
       "[317 rows x 2 columns]"
      ]
     },
     "execution_count": 32,
     "metadata": {},
     "output_type": "execute_result"
    }
   ],
   "source": [
    "sub_file"
   ]
  },
  {
   "cell_type": "code",
   "execution_count": 33,
   "id": "30fb8487",
   "metadata": {},
   "outputs": [
    {
     "data": {
      "text/plain": [
       "(317, 21)"
      ]
     },
     "execution_count": 33,
     "metadata": {},
     "output_type": "execute_result"
    }
   ],
   "source": [
    "test_data.shape"
   ]
  },
  {
   "cell_type": "code",
   "execution_count": 34,
   "id": "341e62c9",
   "metadata": {},
   "outputs": [],
   "source": [
    "sub_file.to_csv('submission.csv', index=False, header=False)"
   ]
  },
  {
   "cell_type": "code",
   "execution_count": 35,
   "id": "6bafdcb1",
   "metadata": {},
   "outputs": [
    {
     "data": {
      "text/plain": [
       "(317, 2)"
      ]
     },
     "execution_count": 35,
     "metadata": {},
     "output_type": "execute_result"
    }
   ],
   "source": [
    "sub_file.shape"
   ]
  },
  {
   "cell_type": "code",
   "execution_count": null,
   "id": "74203c33",
   "metadata": {},
   "outputs": [],
   "source": []
  }
 ],
 "metadata": {
  "kernelspec": {
   "display_name": "Python 3 (ipykernel)",
   "language": "python",
   "name": "python3"
  },
  "language_info": {
   "codemirror_mode": {
    "name": "ipython",
    "version": 3
   },
   "file_extension": ".py",
   "mimetype": "text/x-python",
   "name": "python",
   "nbconvert_exporter": "python",
   "pygments_lexer": "ipython3",
   "version": "3.9.7"
  }
 },
 "nbformat": 4,
 "nbformat_minor": 5
}
